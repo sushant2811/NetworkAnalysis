{
 "cells": [
  {
   "cell_type": "markdown",
   "metadata": {},
   "source": [
    "Ref. Datacamp"
   ]
  },
  {
   "cell_type": "markdown",
   "metadata": {},
   "source": [
    "NetworkX API basics"
   ]
  },
  {
   "cell_type": "code",
   "execution_count": 3,
   "metadata": {
    "collapsed": true
   },
   "outputs": [],
   "source": [
    "import networkx as nx\n",
    "import matplotlib as plt\n",
    "%matplotlib inline\n",
    "from itertools import combinations"
   ]
  },
  {
   "cell_type": "code",
   "execution_count": 23,
   "metadata": {
    "collapsed": true
   },
   "outputs": [],
   "source": [
    "G = nx.Graph()"
   ]
  },
  {
   "cell_type": "code",
   "execution_count": 24,
   "metadata": {
    "collapsed": true
   },
   "outputs": [],
   "source": [
    "G.add_nodes_from([1, 2, 3])"
   ]
  },
  {
   "cell_type": "code",
   "execution_count": 5,
   "metadata": {},
   "outputs": [
    {
     "data": {
      "text/plain": [
       "[1, 2, 3]"
      ]
     },
     "execution_count": 5,
     "metadata": {},
     "output_type": "execute_result"
    }
   ],
   "source": [
    "G.nodes()"
   ]
  },
  {
   "cell_type": "code",
   "execution_count": 6,
   "metadata": {},
   "outputs": [
    {
     "data": {
      "text/plain": [
       "list"
      ]
     },
     "execution_count": 6,
     "metadata": {},
     "output_type": "execute_result"
    }
   ],
   "source": [
    "type(G.nodes())"
   ]
  },
  {
   "cell_type": "code",
   "execution_count": 18,
   "metadata": {
    "collapsed": true
   },
   "outputs": [],
   "source": [
    "G.add_edge(1,2)"
   ]
  },
  {
   "cell_type": "code",
   "execution_count": 19,
   "metadata": {},
   "outputs": [
    {
     "data": {
      "text/plain": [
       "[(1, 2)]"
      ]
     },
     "execution_count": 19,
     "metadata": {},
     "output_type": "execute_result"
    }
   ],
   "source": [
    "G.edges()"
   ]
  },
  {
   "cell_type": "markdown",
   "metadata": {},
   "source": [
    "The .nodes() method returns a list of nodes, while the .edges() method returns a list of tuples, in which each tuple shows the nodes that are present on that edge."
   ]
  },
  {
   "cell_type": "code",
   "execution_count": 20,
   "metadata": {
    "collapsed": true
   },
   "outputs": [],
   "source": [
    "G.node[1]['color'] = 'blue'"
   ]
  },
  {
   "cell_type": "markdown",
   "metadata": {},
   "source": [
    "Above adding to the node 1, a key named 'color' which has the value 'blue'. Note how this is very similar to a dictionary. "
   ]
  },
  {
   "cell_type": "code",
   "execution_count": 21,
   "metadata": {},
   "outputs": [
    {
     "data": {
      "text/plain": [
       "[1, 2, 3]"
      ]
     },
     "execution_count": 21,
     "metadata": {},
     "output_type": "execute_result"
    }
   ],
   "source": [
    "G.nodes()"
   ]
  },
  {
   "cell_type": "code",
   "execution_count": 22,
   "metadata": {},
   "outputs": [
    {
     "data": {
      "text/plain": [
       "[(1, {'color': 'blue'}), (2, {}), (3, {})]"
      ]
     },
     "execution_count": 22,
     "metadata": {},
     "output_type": "execute_result"
    }
   ],
   "source": [
    "G.nodes(data = True)"
   ]
  },
  {
   "cell_type": "markdown",
   "metadata": {},
   "source": [
    "Passing in the keyword argument data=True in these methods retrieves the corresponding metadata associated with the nodes and edges as well."
   ]
  },
  {
   "cell_type": "code",
   "execution_count": 23,
   "metadata": {
    "collapsed": true
   },
   "outputs": [],
   "source": [
    "G.node[2]['feeling'] = 'happy'"
   ]
  },
  {
   "cell_type": "code",
   "execution_count": 24,
   "metadata": {},
   "outputs": [
    {
     "data": {
      "text/plain": [
       "[(1, {'color': 'blue'}), (2, {'feeling': 'happy'}), (3, {})]"
      ]
     },
     "execution_count": 24,
     "metadata": {},
     "output_type": "execute_result"
    }
   ],
   "source": [
    "G.nodes(data = True)"
   ]
  },
  {
   "cell_type": "markdown",
   "metadata": {},
   "source": [
    "Above command returns a list of two tuples in which the first element of the each tuple is a node and the second element is the dictionary in which the key value pair correspond to metadata."
   ]
  },
  {
   "cell_type": "code",
   "execution_count": 27,
   "metadata": {},
   "outputs": [
    {
     "data": {
      "image/png": "[encoded data removed]",
      "text/plain": [
       "<matplotlib.figure.Figure at 0x7fdb026ec910>"
      ]
     },
     "metadata": {},
     "output_type": "display_data"
    }
   ],
   "source": [
    "nx.draw(G)"
   ]
  },
  {
   "cell_type": "markdown",
   "metadata": {},
   "source": [
    "What we have above is called the node-link diagram rendering of the graph."
   ]
  },
  {
   "cell_type": "markdown",
   "metadata": {},
   "source": [
    "### Types of graphs\n",
    "\n",
    "** Undirected graphs: **\n",
    "Do not have any inherent directionality associated with them. "
   ]
  },
  {
   "cell_type": "code",
   "execution_count": 28,
   "metadata": {},
   "outputs": [
    {
     "data": {
      "text/plain": [
       "networkx.classes.graph.Graph"
      ]
     },
     "execution_count": 28,
     "metadata": {},
     "output_type": "execute_result"
    }
   ],
   "source": [
    "type(G)"
   ]
  },
  {
   "cell_type": "markdown",
   "metadata": {},
   "source": [
    "Undirected graphs have the type graph. \n",
    "\n",
    "**Directed graphs:** E.g., Twitter's social graph (has the information of who follows whom).  "
   ]
  },
  {
   "cell_type": "code",
   "execution_count": 29,
   "metadata": {
    "collapsed": true
   },
   "outputs": [],
   "source": [
    "D = nx.DiGraph()"
   ]
  },
  {
   "cell_type": "code",
   "execution_count": 30,
   "metadata": {},
   "outputs": [
    {
     "data": {
      "text/plain": [
       "networkx.classes.digraph.DiGraph"
      ]
     },
     "execution_count": 30,
     "metadata": {},
     "output_type": "execute_result"
    }
   ],
   "source": [
    "type(D)"
   ]
  },
  {
   "cell_type": "markdown",
   "metadata": {},
   "source": [
    "Trips between bike sharing stations may be modeled as multi(Di)Graphs. Each trip being one edge between the pair of stations. "
   ]
  },
  {
   "cell_type": "code",
   "execution_count": 32,
   "metadata": {},
   "outputs": [
    {
     "data": {
      "text/plain": [
       "networkx.classes.multigraph.MultiGraph"
      ]
     },
     "execution_count": 32,
     "metadata": {},
     "output_type": "execute_result"
    }
   ],
   "source": [
    "M = nx.MultiGraph()\n",
    "type(M)"
   ]
  },
  {
   "cell_type": "code",
   "execution_count": 33,
   "metadata": {},
   "outputs": [
    {
     "data": {
      "text/plain": [
       "networkx.classes.multidigraph.MultiDiGraph"
      ]
     },
     "execution_count": 33,
     "metadata": {},
     "output_type": "execute_result"
    }
   ],
   "source": [
    "MD = nx.MultiDiGraph()\n",
    "type(MD)"
   ]
  },
  {
   "cell_type": "markdown",
   "metadata": {},
   "source": [
    "For memory reasons, we might not want to model multiple edges per pair of nodes and therefore we may want to collapse the edges into a single edge that contains the metadata summary of the original. \n",
    "\n",
    "For example edge metadata with value 3 for three rides. "
   ]
  },
  {
   "cell_type": "markdown",
   "metadata": {},
   "source": [
    "** Self-loops **\n",
    "\n",
    "Nodes that are connected to themselves. E.g., bike sharing data, where trip begins at a station and ends at the same session. "
   ]
  },
  {
   "cell_type": "markdown",
   "metadata": {},
   "source": [
    "### Visualizing networks"
   ]
  },
  {
   "cell_type": "markdown",
   "metadata": {},
   "source": [
    "#### Matrix plots:\n",
    "Nodes are the rows and columns in the matrix and elements are filled in depending on if there is edge in between them. For an undirected graph, the matrix is symmetric along the diagonal. For a directed graph, the matrix is not necessarily symmetric. For instance if there is an edge pointing from point A to B, the element AB is filled, but the element BA is not. "
   ]
  },
  {
   "cell_type": "markdown",
   "metadata": {},
   "source": [
    "#### Arc plot:\n",
    "Nodes are ordered along one axis of the plot and edges are drawn using circular arcs from one node to another. If nodes are ordered according to some sort of a rule, e.g., age of social media network of users or geographical proximity of a stations in transport network. Helps to understand connectivity and sorted or grouped property. \n",
    "\n",
    "#### Circos plot: \n",
    "Transformation of the arc plot such that two ends of the arc plots are joined together in a circle. Aesthetically compact alternative to arc plots. "
   ]
  },
  {
   "cell_type": "code",
   "execution_count": 35,
   "metadata": {},
   "outputs": [
    {
     "data": {
      "image/png": "[encoded data removed]",
      "text/plain": [
       "<matplotlib.figure.Figure at 0x7fdb025d9350>"
      ]
     },
     "metadata": {},
     "output_type": "display_data"
    }
   ],
   "source": [
    "nx.draw_circular(G)"
   ]
  },
  {
   "cell_type": "markdown",
   "metadata": {},
   "source": [
    "### Identifying node importance\n",
    "\n",
    "* Degree centrality: \n",
    "Number of neighbors node has / number of neighbors node could possibly have.\n",
    "\n",
    "If self loops allowed: # of neighbors a node could possibly have is every single node in the graph including myself. \n",
    "\n",
    "If self loops not allowed: # of neighbors a node could possibly have is every single node in the graph excluding myself. \n",
    "\n",
    "Examples of nodes with high degree centrality: \n",
    "1. Twitter broadcasters (people who have many follower)\n",
    "2. Airport transportation hubs\n",
    "3. Disease super-spreaders. \n",
    "\n",
    "\n",
    "* Betweeness centrality"
   ]
  },
  {
   "cell_type": "code",
   "execution_count": 2,
   "metadata": {
    "collapsed": true
   },
   "outputs": [],
   "source": [
    "G = nx.Graph()"
   ]
  },
  {
   "cell_type": "code",
   "execution_count": 3,
   "metadata": {
    "collapsed": true
   },
   "outputs": [],
   "source": [
    "G.add_nodes_from(range(1,10))"
   ]
  },
  {
   "cell_type": "code",
   "execution_count": 4,
   "metadata": {},
   "outputs": [
    {
     "data": {
      "text/plain": [
       "[1, 2, 3, 4, 5, 6, 7, 8, 9]"
      ]
     },
     "execution_count": 4,
     "metadata": {},
     "output_type": "execute_result"
    }
   ],
   "source": [
    "G.nodes()"
   ]
  },
  {
   "cell_type": "code",
   "execution_count": 5,
   "metadata": {
    "collapsed": true
   },
   "outputs": [],
   "source": [
    "G.add_edges_from([(1,2), (1,3), (1,4), (1,5), (1,6), (1,7), (1,8), (1,9)])"
   ]
  },
  {
   "cell_type": "code",
   "execution_count": 6,
   "metadata": {},
   "outputs": [
    {
     "data": {
      "text/plain": [
       "[(1, 2), (1, 3), (1, 4), (1, 5), (1, 6), (1, 7), (1, 8), (1, 9)]"
      ]
     },
     "execution_count": 6,
     "metadata": {},
     "output_type": "execute_result"
    }
   ],
   "source": [
    "G.edges()"
   ]
  },
  {
   "cell_type": "code",
   "execution_count": 7,
   "metadata": {},
   "outputs": [
    {
     "data": {
      "text/plain": [
       "[(1, 2, {}),\n",
       " (1, 3, {}),\n",
       " (1, 4, {}),\n",
       " (1, 5, {}),\n",
       " (1, 6, {}),\n",
       " (1, 7, {}),\n",
       " (1, 8, {}),\n",
       " (1, 9, {})]"
      ]
     },
     "execution_count": 7,
     "metadata": {},
     "output_type": "execute_result"
    }
   ],
   "source": [
    "G.edges(data = True)"
   ]
  },
  {
   "cell_type": "code",
   "execution_count": 8,
   "metadata": {},
   "outputs": [
    {
     "data": {
      "text/plain": [
       "{2: {}, 3: {}, 4: {}, 5: {}, 6: {}, 7: {}, 8: {}, 9: {}}"
      ]
     },
     "execution_count": 8,
     "metadata": {},
     "output_type": "execute_result"
    }
   ],
   "source": [
    "G.edge[1]"
   ]
  },
  {
   "cell_type": "code",
   "execution_count": 9,
   "metadata": {},
   "outputs": [
    {
     "data": {
      "text/plain": [
       "{1: {}}"
      ]
     },
     "execution_count": 9,
     "metadata": {},
     "output_type": "execute_result"
    }
   ],
   "source": [
    "G.edge[2]"
   ]
  },
  {
   "cell_type": "code",
   "execution_count": 10,
   "metadata": {},
   "outputs": [
    {
     "data": {
      "text/plain": [
       "{1: {}}"
      ]
     },
     "execution_count": 10,
     "metadata": {},
     "output_type": "execute_result"
    }
   ],
   "source": [
    "G.edge[3]"
   ]
  },
  {
   "cell_type": "code",
   "execution_count": 11,
   "metadata": {},
   "outputs": [
    {
     "data": {
      "text/plain": [
       "{}"
      ]
     },
     "execution_count": 11,
     "metadata": {},
     "output_type": "execute_result"
    }
   ],
   "source": [
    "G.edge[1][2]"
   ]
  },
  {
   "cell_type": "code",
   "execution_count": 12,
   "metadata": {
    "collapsed": true
   },
   "outputs": [],
   "source": [
    "G.edge[1][2]['attribute'] = 42"
   ]
  },
  {
   "cell_type": "code",
   "execution_count": 13,
   "metadata": {},
   "outputs": [
    {
     "data": {
      "text/plain": [
       "{2: {'attribute': 42}, 3: {}, 4: {}, 5: {}, 6: {}, 7: {}, 8: {}, 9: {}}"
      ]
     },
     "execution_count": 13,
     "metadata": {},
     "output_type": "execute_result"
    }
   ],
   "source": [
    "G.edge[1]"
   ]
  },
  {
   "cell_type": "markdown",
   "metadata": {},
   "source": [
    "network_name.edge['node_number'] gives all the edges associated with the nodenumber along with their metadata.\n",
    "\n",
    "network_name.edge['node_number1']['node_number2'] gives the meta data associated with the edge connecting node_number1 and node_number2. \n",
    "\n",
    "network_name.edge['node_number1']['node_number2']['attribute'] = value adds (modifies if already present) the key 'attribute' to have the value = value. "
   ]
  },
  {
   "cell_type": "code",
   "execution_count": 14,
   "metadata": {},
   "outputs": [
    {
     "data": {
      "text/plain": [
       "{'attribute': 42}"
      ]
     },
     "execution_count": 14,
     "metadata": {},
     "output_type": "execute_result"
    }
   ],
   "source": [
    "G.edge[1][2]"
   ]
  },
  {
   "cell_type": "code",
   "execution_count": 17,
   "metadata": {},
   "outputs": [
    {
     "data": {
      "text/plain": [
       "[(1, 2), (1, 3), (1, 4), (1, 5), (1, 6), (1, 7), (1, 8), (1, 9)]"
      ]
     },
     "execution_count": 17,
     "metadata": {},
     "output_type": "execute_result"
    }
   ],
   "source": [
    "G.edges()"
   ]
  },
  {
   "cell_type": "code",
   "execution_count": 18,
   "metadata": {},
   "outputs": [
    {
     "data": {
      "text/plain": [
       "dict"
      ]
     },
     "execution_count": 18,
     "metadata": {},
     "output_type": "execute_result"
    }
   ],
   "source": [
    "type(G.edge[1])"
   ]
  },
  {
   "cell_type": "code",
   "execution_count": 19,
   "metadata": {},
   "outputs": [
    {
     "data": {
      "text/plain": [
       "[2, 3, 4, 5, 6, 7, 8, 9]"
      ]
     },
     "execution_count": 19,
     "metadata": {},
     "output_type": "execute_result"
    }
   ],
   "source": [
    "G.neighbors(1)"
   ]
  },
  {
   "cell_type": "code",
   "execution_count": 21,
   "metadata": {},
   "outputs": [
    {
     "data": {
      "image/png": "[encoded data removed]",
      "text/plain": [
       "<matplotlib.figure.Figure at 0x7f622bc6e050>"
      ]
     },
     "metadata": {},
     "output_type": "display_data"
    }
   ],
   "source": [
    "nx.draw(G)"
   ]
  },
  {
   "cell_type": "code",
   "execution_count": 47,
   "metadata": {},
   "outputs": [
    {
     "data": {
      "image/png": "[encoded data removed]",
      "text/plain": [
       "<matplotlib.figure.Figure at 0x7fdb0248c950>"
      ]
     },
     "metadata": {},
     "output_type": "display_data"
    }
   ],
   "source": [
    "nx.draw_circular(G)"
   ]
  },
  {
   "cell_type": "code",
   "execution_count": 49,
   "metadata": {},
   "outputs": [
    {
     "data": {
      "image/png": "[encoded data removed]",
      "text/plain": [
       "<matplotlib.figure.Figure at 0x7fdb023785d0>"
      ]
     },
     "metadata": {},
     "output_type": "display_data"
    }
   ],
   "source": [
    "nx.draw_random(G)"
   ]
  },
  {
   "cell_type": "code",
   "execution_count": 50,
   "metadata": {},
   "outputs": [
    {
     "data": {
      "image/png": "[encoded data removed]",
      "text/plain": [
       "<matplotlib.figure.Figure at 0x7fdb023f9d10>"
      ]
     },
     "metadata": {},
     "output_type": "display_data"
    }
   ],
   "source": [
    "nx.draw_spring(G)"
   ]
  },
  {
   "cell_type": "code",
   "execution_count": 54,
   "metadata": {},
   "outputs": [
    {
     "data": {
      "text/plain": [
       "[1]"
      ]
     },
     "execution_count": 54,
     "metadata": {},
     "output_type": "execute_result"
    }
   ],
   "source": [
    "G.neighbors(2)"
   ]
  },
  {
   "cell_type": "code",
   "execution_count": 58,
   "metadata": {},
   "outputs": [
    {
     "data": {
      "text/plain": [
       "2"
      ]
     },
     "execution_count": 58,
     "metadata": {},
     "output_type": "execute_result"
    }
   ],
   "source": [
    "next(G.neighbors_iter(1))"
   ]
  },
  {
   "cell_type": "code",
   "execution_count": 59,
   "metadata": {},
   "outputs": [
    {
     "data": {
      "text/plain": [
       "2"
      ]
     },
     "execution_count": 59,
     "metadata": {},
     "output_type": "execute_result"
    }
   ],
   "source": [
    "next(G.neighbors_iter(1))"
   ]
  },
  {
   "cell_type": "code",
   "execution_count": 60,
   "metadata": {},
   "outputs": [
    {
     "name": "stdout",
     "output_type": "stream",
     "text": [
      "2\n",
      "3\n",
      "4\n",
      "5\n",
      "6\n",
      "7\n",
      "8\n",
      "9\n"
     ]
    }
   ],
   "source": [
    "for i in G.neighbors_iter(1):\n",
    "    print i"
   ]
  },
  {
   "cell_type": "code",
   "execution_count": 64,
   "metadata": {},
   "outputs": [
    {
     "data": {
      "text/plain": [
       "{1: 1.0,\n",
       " 2: 0.125,\n",
       " 3: 0.125,\n",
       " 4: 0.125,\n",
       " 5: 0.125,\n",
       " 6: 0.125,\n",
       " 7: 0.125,\n",
       " 8: 0.125,\n",
       " 9: 0.125}"
      ]
     },
     "execution_count": 64,
     "metadata": {},
     "output_type": "execute_result"
    }
   ],
   "source": [
    "nx.degree_centrality(G)\n",
    "# key is the node and the value is the degree centrality. \n",
    "# In the degree centrality function, self loops are \n",
    "# not considered. "
   ]
  },
  {
   "cell_type": "markdown",
   "metadata": {},
   "source": [
    "## Graph algorithms\n",
    "\n",
    "### Finding paths\n",
    "\n",
    "Pathfinding is important for: \n",
    "\n",
    "* Optimization: e.g., the shortest transport paths\n",
    "* Modeling: e.g., disease spread, information passing\n",
    "\n",
    "#### Algorithm: breadth-first search algorithm \n",
    "\n",
    "BFS first developed in 1950s to find the shortest path out of a maze. \n",
    "\n",
    "Say be want shortest path from node A to node B. Look at the neighbors of A, if node B among the neighbors of A, then stop. If not then look at the neighbors of neighbors of A and so on. "
   ]
  },
  {
   "cell_type": "code",
   "execution_count": 65,
   "metadata": {},
   "outputs": [
    {
     "data": {
      "text/plain": [
       "8"
      ]
     },
     "execution_count": 65,
     "metadata": {},
     "output_type": "execute_result"
    }
   ],
   "source": [
    "len(G.edges())"
   ]
  },
  {
   "cell_type": "code",
   "execution_count": 66,
   "metadata": {},
   "outputs": [
    {
     "data": {
      "text/plain": [
       "9"
      ]
     },
     "execution_count": 66,
     "metadata": {},
     "output_type": "execute_result"
    }
   ],
   "source": [
    "len(G.nodes())"
   ]
  },
  {
   "cell_type": "code",
   "execution_count": 67,
   "metadata": {},
   "outputs": [
    {
     "data": {
      "text/plain": [
       "<networkx.classes.graph.Graph at 0x7fdb024eac50>"
      ]
     },
     "execution_count": 67,
     "metadata": {},
     "output_type": "execute_result"
    }
   ],
   "source": [
    "G"
   ]
  },
  {
   "cell_type": "markdown",
   "metadata": {},
   "source": [
    "### Betweenness centrality\n",
    "\n",
    "Definition: \n",
    "\n",
    "num. of shortest paths that pass through the node / all possible shortest paths \n",
    "\n",
    "Degree centrality identifies the most connected node. Betweeness centrality identifies the bottleneck nodes. \n",
    "\n",
    "Application:\n",
    "\n",
    "* Bridges between liberal-and conservative leaning Twitter users.\n",
    "\n",
    "* Critical information transfer links. "
   ]
  },
  {
   "cell_type": "code",
   "execution_count": 27,
   "metadata": {},
   "outputs": [
    {
     "data": {
      "image/png": "[encoded data removed]",
      "text/plain": [
       "<matplotlib.figure.Figure at 0x7f622dd15350>"
      ]
     },
     "metadata": {},
     "output_type": "display_data"
    }
   ],
   "source": [
    "Gbarbell = nx.barbell_graph(m1=6, m2=4)\n",
    "nx.draw(Gbarbell, with_labels=True)"
   ]
  },
  {
   "cell_type": "markdown",
   "metadata": {},
   "source": [
    "Notice how barbell graph changes on each run. m1 is the number of nodes in each of the bars. m2 is the number of nodes in the link. "
   ]
  },
  {
   "cell_type": "code",
   "execution_count": 97,
   "metadata": {},
   "outputs": [
    {
     "data": {
      "text/plain": [
       "{0: 0.3333333333333333,\n",
       " 1: 0.3333333333333333,\n",
       " 2: 0.3333333333333333,\n",
       " 3: 0.3333333333333333,\n",
       " 4: 0.3333333333333333,\n",
       " 5: 0.4,\n",
       " 6: 0.13333333333333333,\n",
       " 7: 0.13333333333333333,\n",
       " 8: 0.13333333333333333,\n",
       " 9: 0.13333333333333333,\n",
       " 10: 0.4,\n",
       " 11: 0.3333333333333333,\n",
       " 12: 0.3333333333333333,\n",
       " 13: 0.3333333333333333,\n",
       " 14: 0.3333333333333333,\n",
       " 15: 0.3333333333333333}"
      ]
     },
     "execution_count": 97,
     "metadata": {},
     "output_type": "execute_result"
    }
   ],
   "source": [
    "nx.degree_centrality(Gbarbell)"
   ]
  },
  {
   "cell_type": "code",
   "execution_count": 98,
   "metadata": {},
   "outputs": [
    {
     "data": {
      "text/plain": [
       "{0: 0.0,\n",
       " 1: 0.0,\n",
       " 2: 0.0,\n",
       " 3: 0.0,\n",
       " 4: 0.0,\n",
       " 5: 0.4761904761904762,\n",
       " 6: 0.5142857142857143,\n",
       " 7: 0.5333333333333334,\n",
       " 8: 0.5333333333333334,\n",
       " 9: 0.5142857142857143,\n",
       " 10: 0.4761904761904762,\n",
       " 11: 0.0,\n",
       " 12: 0.0,\n",
       " 13: 0.0,\n",
       " 14: 0.0,\n",
       " 15: 0.0}"
      ]
     },
     "execution_count": 98,
     "metadata": {},
     "output_type": "execute_result"
    }
   ],
   "source": [
    "nx.betweenness_centrality(Gbarbell)"
   ]
  },
  {
   "cell_type": "markdown",
   "metadata": {},
   "source": [
    "### Cliques\n",
    "\n",
    "Network clique: completely connected graphs. Each node is connected to every other node. \n",
    "\n",
    "Simplest clique: An edge connecting two nodes. \n",
    "\n",
    "Simplest non-trivial clique: A triangle (Applied in friend recommendation systems: called triangle closure). "
   ]
  },
  {
   "cell_type": "code",
   "execution_count": 99,
   "metadata": {},
   "outputs": [
    {
     "data": {
      "text/plain": [
       "[0, 1, 2, 3, 4, 5, 6, 7, 8, 9, 10, 11, 12, 13, 14, 15]"
      ]
     },
     "execution_count": 99,
     "metadata": {},
     "output_type": "execute_result"
    }
   ],
   "source": [
    "Gbarbell.nodes()"
   ]
  },
  {
   "cell_type": "code",
   "execution_count": 101,
   "metadata": {},
   "outputs": [
    {
     "data": {
      "text/plain": [
       "<itertools.combinations at 0x7fdb02197d60>"
      ]
     },
     "execution_count": 101,
     "metadata": {},
     "output_type": "execute_result"
    }
   ],
   "source": [
    "combinations(Gbarbell.nodes(), 2)"
   ]
  },
  {
   "cell_type": "code",
   "execution_count": 103,
   "metadata": {},
   "outputs": [
    {
     "data": {
      "text/plain": [
       "(0, 1)"
      ]
     },
     "execution_count": 103,
     "metadata": {},
     "output_type": "execute_result"
    }
   ],
   "source": [
    "next(combinations(Gbarbell.nodes(), 2))"
   ]
  },
  {
   "cell_type": "code",
   "execution_count": 106,
   "metadata": {},
   "outputs": [
    {
     "data": {
      "text/plain": [
       "<itertools.combinations at 0x7fdb02081890>"
      ]
     },
     "execution_count": 106,
     "metadata": {},
     "output_type": "execute_result"
    }
   ],
   "source": [
    "combinations(Gbarbell.nodes(), 2)"
   ]
  },
  {
   "cell_type": "code",
   "execution_count": 109,
   "metadata": {},
   "outputs": [
    {
     "name": "stdout",
     "output_type": "stream",
     "text": [
      "0 1 2\n",
      "0 1 3\n",
      "0 1 4\n",
      "0 1 5\n",
      "0 1 6\n",
      "0 1 7\n",
      "0 1 8\n",
      "0 1 9\n",
      "0 1 10\n",
      "0 1 11\n",
      "0 1 12\n",
      "0 1 13\n",
      "0 1 14\n",
      "0 1 15\n",
      "0 2 3\n",
      "0 2 4\n",
      "0 2 5\n",
      "0 2 6\n",
      "0 2 7\n",
      "0 2 8\n",
      "0 2 9\n",
      "0 2 10\n",
      "0 2 11\n",
      "0 2 12\n",
      "0 2 13\n",
      "0 2 14\n",
      "0 2 15\n",
      "0 3 4\n",
      "0 3 5\n",
      "0 3 6\n",
      "0 3 7\n",
      "0 3 8\n",
      "0 3 9\n",
      "0 3 10\n",
      "0 3 11\n",
      "0 3 12\n",
      "0 3 13\n",
      "0 3 14\n",
      "0 3 15\n",
      "0 4 5\n",
      "0 4 6\n",
      "0 4 7\n",
      "0 4 8\n",
      "0 4 9\n",
      "0 4 10\n",
      "0 4 11\n",
      "0 4 12\n",
      "0 4 13\n",
      "0 4 14\n",
      "0 4 15\n",
      "0 5 6\n",
      "0 5 7\n",
      "0 5 8\n",
      "0 5 9\n",
      "0 5 10\n",
      "0 5 11\n",
      "0 5 12\n",
      "0 5 13\n",
      "0 5 14\n",
      "0 5 15\n",
      "0 6 7\n",
      "0 6 8\n",
      "0 6 9\n",
      "0 6 10\n",
      "0 6 11\n",
      "0 6 12\n",
      "0 6 13\n",
      "0 6 14\n",
      "0 6 15\n",
      "0 7 8\n",
      "0 7 9\n",
      "0 7 10\n",
      "0 7 11\n",
      "0 7 12\n",
      "0 7 13\n",
      "0 7 14\n",
      "0 7 15\n",
      "0 8 9\n",
      "0 8 10\n",
      "0 8 11\n",
      "0 8 12\n",
      "0 8 13\n",
      "0 8 14\n",
      "0 8 15\n",
      "0 9 10\n",
      "0 9 11\n",
      "0 9 12\n",
      "0 9 13\n",
      "0 9 14\n",
      "0 9 15\n",
      "0 10 11\n",
      "0 10 12\n",
      "0 10 13\n",
      "0 10 14\n",
      "0 10 15\n",
      "0 11 12\n",
      "0 11 13\n",
      "0 11 14\n",
      "0 11 15\n",
      "0 12 13\n",
      "0 12 14\n",
      "0 12 15\n",
      "0 13 14\n",
      "0 13 15\n",
      "0 14 15\n",
      "1 2 3\n",
      "1 2 4\n",
      "1 2 5\n",
      "1 2 6\n",
      "1 2 7\n",
      "1 2 8\n",
      "1 2 9\n",
      "1 2 10\n",
      "1 2 11\n",
      "1 2 12\n",
      "1 2 13\n",
      "1 2 14\n",
      "1 2 15\n",
      "1 3 4\n",
      "1 3 5\n",
      "1 3 6\n",
      "1 3 7\n",
      "1 3 8\n",
      "1 3 9\n",
      "1 3 10\n",
      "1 3 11\n",
      "1 3 12\n",
      "1 3 13\n",
      "1 3 14\n",
      "1 3 15\n",
      "1 4 5\n",
      "1 4 6\n",
      "1 4 7\n",
      "1 4 8\n",
      "1 4 9\n",
      "1 4 10\n",
      "1 4 11\n",
      "1 4 12\n",
      "1 4 13\n",
      "1 4 14\n",
      "1 4 15\n",
      "1 5 6\n",
      "1 5 7\n",
      "1 5 8\n",
      "1 5 9\n",
      "1 5 10\n",
      "1 5 11\n",
      "1 5 12\n",
      "1 5 13\n",
      "1 5 14\n",
      "1 5 15\n",
      "1 6 7\n",
      "1 6 8\n",
      "1 6 9\n",
      "1 6 10\n",
      "1 6 11\n",
      "1 6 12\n",
      "1 6 13\n",
      "1 6 14\n",
      "1 6 15\n",
      "1 7 8\n",
      "1 7 9\n",
      "1 7 10\n",
      "1 7 11\n",
      "1 7 12\n",
      "1 7 13\n",
      "1 7 14\n",
      "1 7 15\n",
      "1 8 9\n",
      "1 8 10\n",
      "1 8 11\n",
      "1 8 12\n",
      "1 8 13\n",
      "1 8 14\n",
      "1 8 15\n",
      "1 9 10\n",
      "1 9 11\n",
      "1 9 12\n",
      "1 9 13\n",
      "1 9 14\n",
      "1 9 15\n",
      "1 10 11\n",
      "1 10 12\n",
      "1 10 13\n",
      "1 10 14\n",
      "1 10 15\n",
      "1 11 12\n",
      "1 11 13\n",
      "1 11 14\n",
      "1 11 15\n",
      "1 12 13\n",
      "1 12 14\n",
      "1 12 15\n",
      "1 13 14\n",
      "1 13 15\n",
      "1 14 15\n",
      "2 3 4\n",
      "2 3 5\n",
      "2 3 6\n",
      "2 3 7\n",
      "2 3 8\n",
      "2 3 9\n",
      "2 3 10\n",
      "2 3 11\n",
      "2 3 12\n",
      "2 3 13\n",
      "2 3 14\n",
      "2 3 15\n",
      "2 4 5\n",
      "2 4 6\n",
      "2 4 7\n",
      "2 4 8\n",
      "2 4 9\n",
      "2 4 10\n",
      "2 4 11\n",
      "2 4 12\n",
      "2 4 13\n",
      "2 4 14\n",
      "2 4 15\n",
      "2 5 6\n",
      "2 5 7\n",
      "2 5 8\n",
      "2 5 9\n",
      "2 5 10\n",
      "2 5 11\n",
      "2 5 12\n",
      "2 5 13\n",
      "2 5 14\n",
      "2 5 15\n",
      "2 6 7\n",
      "2 6 8\n",
      "2 6 9\n",
      "2 6 10\n",
      "2 6 11\n",
      "2 6 12\n",
      "2 6 13\n",
      "2 6 14\n",
      "2 6 15\n",
      "2 7 8\n",
      "2 7 9\n",
      "2 7 10\n",
      "2 7 11\n",
      "2 7 12\n",
      "2 7 13\n",
      "2 7 14\n",
      "2 7 15\n",
      "2 8 9\n",
      "2 8 10\n",
      "2 8 11\n",
      "2 8 12\n",
      "2 8 13\n",
      "2 8 14\n",
      "2 8 15\n",
      "2 9 10\n",
      "2 9 11\n",
      "2 9 12\n",
      "2 9 13\n",
      "2 9 14\n",
      "2 9 15\n",
      "2 10 11\n",
      "2 10 12\n",
      "2 10 13\n",
      "2 10 14\n",
      "2 10 15\n",
      "2 11 12\n",
      "2 11 13\n",
      "2 11 14\n",
      "2 11 15\n",
      "2 12 13\n",
      "2 12 14\n",
      "2 12 15\n",
      "2 13 14\n",
      "2 13 15\n",
      "2 14 15\n",
      "3 4 5\n",
      "3 4 6\n",
      "3 4 7\n",
      "3 4 8\n",
      "3 4 9\n",
      "3 4 10\n",
      "3 4 11\n",
      "3 4 12\n",
      "3 4 13\n",
      "3 4 14\n",
      "3 4 15\n",
      "3 5 6\n",
      "3 5 7\n",
      "3 5 8\n",
      "3 5 9\n",
      "3 5 10\n",
      "3 5 11\n",
      "3 5 12\n",
      "3 5 13\n",
      "3 5 14\n",
      "3 5 15\n",
      "3 6 7\n",
      "3 6 8\n",
      "3 6 9\n",
      "3 6 10\n",
      "3 6 11\n",
      "3 6 12\n",
      "3 6 13\n",
      "3 6 14\n",
      "3 6 15\n",
      "3 7 8\n",
      "3 7 9\n",
      "3 7 10\n",
      "3 7 11\n",
      "3 7 12\n",
      "3 7 13\n",
      "3 7 14\n",
      "3 7 15\n",
      "3 8 9\n",
      "3 8 10\n",
      "3 8 11\n",
      "3 8 12\n",
      "3 8 13\n",
      "3 8 14\n",
      "3 8 15\n",
      "3 9 10\n",
      "3 9 11\n",
      "3 9 12\n",
      "3 9 13\n",
      "3 9 14\n",
      "3 9 15\n",
      "3 10 11\n",
      "3 10 12\n",
      "3 10 13\n",
      "3 10 14\n",
      "3 10 15\n",
      "3 11 12\n",
      "3 11 13\n",
      "3 11 14\n",
      "3 11 15\n",
      "3 12 13\n",
      "3 12 14\n",
      "3 12 15\n",
      "3 13 14\n",
      "3 13 15\n",
      "3 14 15\n",
      "4 5 6\n",
      "4 5 7\n",
      "4 5 8\n",
      "4 5 9\n",
      "4 5 10\n",
      "4 5 11\n",
      "4 5 12\n",
      "4 5 13\n",
      "4 5 14\n",
      "4 5 15\n",
      "4 6 7\n",
      "4 6 8\n",
      "4 6 9\n",
      "4 6 10\n",
      "4 6 11\n",
      "4 6 12\n",
      "4 6 13\n",
      "4 6 14\n",
      "4 6 15\n",
      "4 7 8\n",
      "4 7 9\n",
      "4 7 10\n",
      "4 7 11\n",
      "4 7 12\n",
      "4 7 13\n",
      "4 7 14\n",
      "4 7 15\n",
      "4 8 9\n",
      "4 8 10\n",
      "4 8 11\n",
      "4 8 12\n",
      "4 8 13\n",
      "4 8 14\n",
      "4 8 15\n",
      "4 9 10\n",
      "4 9 11\n",
      "4 9 12\n",
      "4 9 13\n",
      "4 9 14\n",
      "4 9 15\n",
      "4 10 11\n",
      "4 10 12\n",
      "4 10 13\n",
      "4 10 14\n",
      "4 10 15\n",
      "4 11 12\n",
      "4 11 13\n",
      "4 11 14\n",
      "4 11 15\n",
      "4 12 13\n",
      "4 12 14\n",
      "4 12 15\n",
      "4 13 14\n",
      "4 13 15\n",
      "4 14 15\n",
      "5 6 7\n",
      "5 6 8\n",
      "5 6 9\n",
      "5 6 10\n",
      "5 6 11\n",
      "5 6 12\n",
      "5 6 13\n",
      "5 6 14\n",
      "5 6 15\n",
      "5 7 8\n",
      "5 7 9\n",
      "5 7 10\n",
      "5 7 11\n",
      "5 7 12\n",
      "5 7 13\n",
      "5 7 14\n",
      "5 7 15\n",
      "5 8 9\n",
      "5 8 10\n",
      "5 8 11\n",
      "5 8 12\n",
      "5 8 13\n",
      "5 8 14\n",
      "5 8 15\n",
      "5 9 10\n",
      "5 9 11\n",
      "5 9 12\n",
      "5 9 13\n",
      "5 9 14\n",
      "5 9 15\n",
      "5 10 11\n",
      "5 10 12\n",
      "5 10 13\n",
      "5 10 14\n",
      "5 10 15\n",
      "5 11 12\n",
      "5 11 13\n",
      "5 11 14\n",
      "5 11 15\n",
      "5 12 13\n",
      "5 12 14\n",
      "5 12 15\n",
      "5 13 14\n",
      "5 13 15\n",
      "5 14 15\n",
      "6 7 8\n",
      "6 7 9\n",
      "6 7 10\n",
      "6 7 11\n",
      "6 7 12\n",
      "6 7 13\n",
      "6 7 14\n",
      "6 7 15\n",
      "6 8 9\n",
      "6 8 10\n",
      "6 8 11\n",
      "6 8 12\n",
      "6 8 13\n",
      "6 8 14\n",
      "6 8 15\n",
      "6 9 10\n",
      "6 9 11\n",
      "6 9 12\n",
      "6 9 13\n",
      "6 9 14\n",
      "6 9 15\n",
      "6 10 11\n",
      "6 10 12\n",
      "6 10 13\n",
      "6 10 14\n",
      "6 10 15\n",
      "6 11 12\n",
      "6 11 13\n",
      "6 11 14\n",
      "6 11 15\n",
      "6 12 13\n",
      "6 12 14\n",
      "6 12 15\n",
      "6 13 14\n",
      "6 13 15\n",
      "6 14 15\n",
      "7 8 9\n",
      "7 8 10\n",
      "7 8 11\n",
      "7 8 12\n",
      "7 8 13\n",
      "7 8 14\n",
      "7 8 15\n",
      "7 9 10\n",
      "7 9 11\n",
      "7 9 12\n",
      "7 9 13\n",
      "7 9 14\n",
      "7 9 15\n",
      "7 10 11\n",
      "7 10 12\n",
      "7 10 13\n",
      "7 10 14\n",
      "7 10 15\n",
      "7 11 12\n",
      "7 11 13\n",
      "7 11 14\n",
      "7 11 15\n",
      "7 12 13\n",
      "7 12 14\n",
      "7 12 15\n",
      "7 13 14\n",
      "7 13 15\n",
      "7 14 15\n",
      "8 9 10\n",
      "8 9 11\n",
      "8 9 12\n",
      "8 9 13\n",
      "8 9 14\n",
      "8 9 15\n",
      "8 10 11\n",
      "8 10 12\n",
      "8 10 13\n",
      "8 10 14\n",
      "8 10 15\n",
      "8 11 12\n",
      "8 11 13\n",
      "8 11 14\n",
      "8 11 15\n",
      "8 12 13\n",
      "8 12 14\n",
      "8 12 15\n",
      "8 13 14\n",
      "8 13 15\n",
      "8 14 15\n",
      "9 10 11\n",
      "9 10 12\n",
      "9 10 13\n",
      "9 10 14\n",
      "9 10 15\n",
      "9 11 12\n",
      "9 11 13\n",
      "9 11 14\n",
      "9 11 15\n",
      "9 12 13\n",
      "9 12 14\n",
      "9 12 15\n",
      "9 13 14\n",
      "9 13 15\n",
      "9 14 15\n",
      "10 11 12\n",
      "10 11 13\n",
      "10 11 14\n",
      "10 11 15\n",
      "10 12 13\n",
      "10 12 14\n",
      "10 12 15\n",
      "10 13 14\n",
      "10 13 15\n",
      "10 14 15\n",
      "11 12 13\n",
      "11 12 14\n",
      "11 12 15\n",
      "11 13 14\n",
      "11 13 15\n",
      "11 14 15\n",
      "12 13 14\n",
      "12 13 15\n",
      "12 14 15\n",
      "13 14 15\n"
     ]
    }
   ],
   "source": [
    "for n1, n2, n3 in combinations(Gbarbell.nodes(), 3):\n",
    "    print n1, n2, n3"
   ]
  },
  {
   "cell_type": "markdown",
   "metadata": {
    "collapsed": true
   },
   "source": [
    "#### Maximal clique\n",
    "\n",
    "A clique that when extended by one node is no longer a clique.\n",
    "\n",
    "find_cliques function in NetworkX API finds all **maximal** cliques"
   ]
  },
  {
   "cell_type": "code",
   "execution_count": 4,
   "metadata": {
    "collapsed": true
   },
   "outputs": [],
   "source": [
    "Gbarbell = nx.barbell_graph(m1 = 5, m2 = 1)"
   ]
  },
  {
   "cell_type": "code",
   "execution_count": 29,
   "metadata": {},
   "outputs": [
    {
     "data": {
      "text/plain": [
       "<generator object find_cliques at 0x7f04097a0eb0>"
      ]
     },
     "execution_count": 29,
     "metadata": {},
     "output_type": "execute_result"
    }
   ],
   "source": [
    "nx.find_cliques(Gbarbell)"
   ]
  },
  {
   "cell_type": "code",
   "execution_count": 33,
   "metadata": {},
   "outputs": [
    {
     "data": {
      "text/plain": [
       "[[4, 0, 1, 2, 3], [4, 5], [6, 8, 9, 10, 7], [6, 5]]"
      ]
     },
     "execution_count": 33,
     "metadata": {},
     "output_type": "execute_result"
    }
   ],
   "source": [
    "list(nx.find_cliques(Gbarbell))"
   ]
  },
  {
   "cell_type": "code",
   "execution_count": 34,
   "metadata": {},
   "outputs": [
    {
     "data": {
      "image/png": "[encoded data removed]",
      "text/plain": [
       "<matplotlib.figure.Figure at 0x7f0409738f90>"
      ]
     },
     "metadata": {},
     "output_type": "display_data"
    }
   ],
   "source": [
    "nx.draw(Gbarbell, with_labels=True)"
   ]
  },
  {
   "cell_type": "markdown",
   "metadata": {},
   "source": [
    "### subgraphs\n",
    "\n",
    "Used to visualize portions of a large graph to find paths, communities/ cliques,or degrees of separation from a node. "
   ]
  },
  {
   "cell_type": "code",
   "execution_count": 41,
   "metadata": {
    "collapsed": true
   },
   "outputs": [],
   "source": [
    "G = nx.erdos_renyi_graph(n = 20, p =0.2)"
   ]
  },
  {
   "cell_type": "code",
   "execution_count": 42,
   "metadata": {},
   "outputs": [
    {
     "data": {
      "image/png": "[encoded data removed]",
      "text/plain": [
       "<matplotlib.figure.Figure at 0x7f040736e450>"
      ]
     },
     "metadata": {},
     "output_type": "display_data"
    }
   ],
   "source": [
    "nx.draw(G, with_labels=True)"
   ]
  },
  {
   "cell_type": "code",
   "execution_count": 44,
   "metadata": {},
   "outputs": [
    {
     "data": {
      "text/plain": [
       "[10, 14, 4, 13, 6]"
      ]
     },
     "execution_count": 44,
     "metadata": {},
     "output_type": "execute_result"
    }
   ],
   "source": [
    "nodes = G.neighbors(8)\n",
    "nodes"
   ]
  },
  {
   "cell_type": "code",
   "execution_count": 45,
   "metadata": {
    "collapsed": true
   },
   "outputs": [],
   "source": [
    "nodes.append(8)"
   ]
  },
  {
   "cell_type": "code",
   "execution_count": 46,
   "metadata": {},
   "outputs": [
    {
     "data": {
      "text/plain": [
       "[10, 14, 4, 13, 6, 8]"
      ]
     },
     "execution_count": 46,
     "metadata": {},
     "output_type": "execute_result"
    }
   ],
   "source": [
    "nodes"
   ]
  },
  {
   "cell_type": "code",
   "execution_count": 47,
   "metadata": {
    "collapsed": true
   },
   "outputs": [],
   "source": [
    "G8 = G.subgraph(nodes)"
   ]
  },
  {
   "cell_type": "code",
   "execution_count": 48,
   "metadata": {},
   "outputs": [
    {
     "data": {
      "text/plain": [
       "[(4, 8), (6, 8), (6, 10), (8, 10), (8, 14), (8, 13), (10, 13)]"
      ]
     },
     "execution_count": 48,
     "metadata": {},
     "output_type": "execute_result"
    }
   ],
   "source": [
    "G8.edges()"
   ]
  },
  {
   "cell_type": "code",
   "execution_count": 49,
   "metadata": {},
   "outputs": [
    {
     "data": {
      "image/png": "[encoded data removed]",
      "text/plain": [
       "<matplotlib.figure.Figure at 0x7f04070f8ed0>"
      ]
     },
     "metadata": {},
     "output_type": "display_data"
    }
   ],
   "source": [
    "nx.draw(G8, with_labels=True)"
   ]
  },
  {
   "cell_type": "code",
   "execution_count": 30,
   "metadata": {},
   "outputs": [
    {
     "data": {
      "image/png": "[encoded data removed]",
      "text/plain": [
       "<matplotlib.figure.Figure at 0x7f622b95b890>"
      ]
     },
     "metadata": {},
     "output_type": "display_data"
    }
   ],
   "source": [
    "nx.draw(Gbarbell, with_labels=True)"
   ]
  },
  {
   "cell_type": "code",
   "execution_count": 31,
   "metadata": {},
   "outputs": [
    {
     "data": {
      "text/plain": [
       "matrix([[ 0.,  1.,  1.,  1.,  1.,  1.,  0.,  0.,  0.,  0.,  0.,  0.,  0.,\n",
       "          0.,  0.,  0.],\n",
       "        [ 1.,  0.,  1.,  1.,  1.,  1.,  0.,  0.,  0.,  0.,  0.,  0.,  0.,\n",
       "          0.,  0.,  0.],\n",
       "        [ 1.,  1.,  0.,  1.,  1.,  1.,  0.,  0.,  0.,  0.,  0.,  0.,  0.,\n",
       "          0.,  0.,  0.],\n",
       "        [ 1.,  1.,  1.,  0.,  1.,  1.,  0.,  0.,  0.,  0.,  0.,  0.,  0.,\n",
       "          0.,  0.,  0.],\n",
       "        [ 1.,  1.,  1.,  1.,  0.,  1.,  0.,  0.,  0.,  0.,  0.,  0.,  0.,\n",
       "          0.,  0.,  0.],\n",
       "        [ 1.,  1.,  1.,  1.,  1.,  0.,  1.,  0.,  0.,  0.,  0.,  0.,  0.,\n",
       "          0.,  0.,  0.],\n",
       "        [ 0.,  0.,  0.,  0.,  0.,  1.,  0.,  1.,  0.,  0.,  0.,  0.,  0.,\n",
       "          0.,  0.,  0.],\n",
       "        [ 0.,  0.,  0.,  0.,  0.,  0.,  1.,  0.,  1.,  0.,  0.,  0.,  0.,\n",
       "          0.,  0.,  0.],\n",
       "        [ 0.,  0.,  0.,  0.,  0.,  0.,  0.,  1.,  0.,  1.,  0.,  0.,  0.,\n",
       "          0.,  0.,  0.],\n",
       "        [ 0.,  0.,  0.,  0.,  0.,  0.,  0.,  0.,  1.,  0.,  1.,  0.,  0.,\n",
       "          0.,  0.,  0.],\n",
       "        [ 0.,  0.,  0.,  0.,  0.,  0.,  0.,  0.,  0.,  1.,  0.,  1.,  1.,\n",
       "          1.,  1.,  1.],\n",
       "        [ 0.,  0.,  0.,  0.,  0.,  0.,  0.,  0.,  0.,  0.,  1.,  0.,  1.,\n",
       "          1.,  1.,  1.],\n",
       "        [ 0.,  0.,  0.,  0.,  0.,  0.,  0.,  0.,  0.,  0.,  1.,  1.,  0.,\n",
       "          1.,  1.,  1.],\n",
       "        [ 0.,  0.,  0.,  0.,  0.,  0.,  0.,  0.,  0.,  0.,  1.,  1.,  1.,\n",
       "          0.,  1.,  1.],\n",
       "        [ 0.,  0.,  0.,  0.,  0.,  0.,  0.,  0.,  0.,  0.,  1.,  1.,  1.,\n",
       "          1.,  0.,  1.],\n",
       "        [ 0.,  0.,  0.,  0.,  0.,  0.,  0.,  0.,  0.,  0.,  1.,  1.,  1.,\n",
       "          1.,  1.,  0.]])"
      ]
     },
     "execution_count": 31,
     "metadata": {},
     "output_type": "execute_result"
    }
   ],
   "source": [
    "nx.to_numpy_matrix(Gbarbell)"
   ]
  },
  {
   "cell_type": "code",
   "execution_count": 32,
   "metadata": {
    "collapsed": true
   },
   "outputs": [],
   "source": [
    "import seaborn as sns"
   ]
  },
  {
   "cell_type": "code",
   "execution_count": 34,
   "metadata": {},
   "outputs": [
    {
     "data": {
      "image/png": "[encoded data removed]",
      "text/plain": [
       "<matplotlib.figure.Figure at 0x7f621f47ca90>"
      ]
     },
     "metadata": {},
     "output_type": "display_data"
    }
   ],
   "source": [
    "sns.heatmap(nx.to_numpy_matrix(Gbarbell));"
   ]
  },
  {
   "cell_type": "markdown",
   "metadata": {},
   "source": [
    "Playing around with the set data structure"
   ]
  },
  {
   "cell_type": "code",
   "execution_count": 35,
   "metadata": {
    "collapsed": true
   },
   "outputs": [],
   "source": [
    "s = set()"
   ]
  },
  {
   "cell_type": "code",
   "execution_count": 36,
   "metadata": {
    "collapsed": true
   },
   "outputs": [],
   "source": [
    "s.add(1)"
   ]
  },
  {
   "cell_type": "code",
   "execution_count": 37,
   "metadata": {},
   "outputs": [
    {
     "data": {
      "text/plain": [
       "{1}"
      ]
     },
     "execution_count": 37,
     "metadata": {},
     "output_type": "execute_result"
    }
   ],
   "source": [
    "s"
   ]
  },
  {
   "cell_type": "code",
   "execution_count": 39,
   "metadata": {
    "collapsed": true
   },
   "outputs": [],
   "source": [
    "s.add(2)\n",
    "s.add(3)"
   ]
  },
  {
   "cell_type": "code",
   "execution_count": 40,
   "metadata": {},
   "outputs": [
    {
     "data": {
      "text/plain": [
       "{1, 2, 3}"
      ]
     },
     "execution_count": 40,
     "metadata": {},
     "output_type": "execute_result"
    }
   ],
   "source": [
    "s"
   ]
  },
  {
   "cell_type": "code",
   "execution_count": 41,
   "metadata": {
    "collapsed": true
   },
   "outputs": [],
   "source": [
    "s.add(2)"
   ]
  },
  {
   "cell_type": "code",
   "execution_count": 42,
   "metadata": {},
   "outputs": [
    {
     "data": {
      "text/plain": [
       "{1, 2, 3}"
      ]
     },
     "execution_count": 42,
     "metadata": {},
     "output_type": "execute_result"
    }
   ],
   "source": [
    "s"
   ]
  },
  {
   "cell_type": "code",
   "execution_count": 44,
   "metadata": {
    "collapsed": true
   },
   "outputs": [],
   "source": [
    "l = [4, 5]"
   ]
  },
  {
   "cell_type": "code",
   "execution_count": 45,
   "metadata": {
    "collapsed": true
   },
   "outputs": [],
   "source": [
    "l.extend([5, 6])"
   ]
  },
  {
   "cell_type": "code",
   "execution_count": 46,
   "metadata": {},
   "outputs": [
    {
     "data": {
      "text/plain": [
       "[4, 5, 5, 6]"
      ]
     },
     "execution_count": 46,
     "metadata": {},
     "output_type": "execute_result"
    }
   ],
   "source": [
    "l"
   ]
  },
  {
   "cell_type": "code",
   "execution_count": 47,
   "metadata": {},
   "outputs": [
    {
     "data": {
      "text/plain": [
       "{4, 5, 6}"
      ]
     },
     "execution_count": 47,
     "metadata": {},
     "output_type": "execute_result"
    }
   ],
   "source": [
    "set(l)"
   ]
  },
  {
   "cell_type": "code",
   "execution_count": 48,
   "metadata": {
    "collapsed": true
   },
   "outputs": [],
   "source": [
    "deg_cent = nx.degree_centrality(Gbarbell)"
   ]
  },
  {
   "cell_type": "code",
   "execution_count": 49,
   "metadata": {},
   "outputs": [
    {
     "data": {
      "text/plain": [
       "{0: 0.3333333333333333,\n",
       " 1: 0.3333333333333333,\n",
       " 2: 0.3333333333333333,\n",
       " 3: 0.3333333333333333,\n",
       " 4: 0.3333333333333333,\n",
       " 5: 0.4,\n",
       " 6: 0.13333333333333333,\n",
       " 7: 0.13333333333333333,\n",
       " 8: 0.13333333333333333,\n",
       " 9: 0.13333333333333333,\n",
       " 10: 0.4,\n",
       " 11: 0.3333333333333333,\n",
       " 12: 0.3333333333333333,\n",
       " 13: 0.3333333333333333,\n",
       " 14: 0.3333333333333333,\n",
       " 15: 0.3333333333333333}"
      ]
     },
     "execution_count": 49,
     "metadata": {},
     "output_type": "execute_result"
    }
   ],
   "source": [
    "deg_cent"
   ]
  },
  {
   "cell_type": "code",
   "execution_count": 55,
   "metadata": {},
   "outputs": [
    {
     "name": "stdout",
     "output_type": "stream",
     "text": [
      "0 0.333333333333\n",
      "1 0.333333333333\n",
      "2 0.333333333333\n",
      "3 0.333333333333\n",
      "4 0.333333333333\n",
      "5 0.4\n",
      "6 0.133333333333\n",
      "7 0.133333333333\n",
      "8 0.133333333333\n",
      "9 0.133333333333\n",
      "10 0.4\n",
      "11 0.333333333333\n",
      "12 0.333333333333\n",
      "13 0.333333333333\n",
      "14 0.333333333333\n",
      "15 0.333333333333\n"
     ]
    }
   ],
   "source": [
    "for k, v in deg_cent.items():\n",
    "    print k, v"
   ]
  },
  {
   "cell_type": "code",
   "execution_count": 56,
   "metadata": {},
   "outputs": [
    {
     "data": {
      "text/plain": [
       "{0: 10,\n",
       " 1: 10,\n",
       " 2: 10,\n",
       " 3: 10,\n",
       " 4: 10,\n",
       " 5: 10,\n",
       " 6: 0,\n",
       " 7: 0,\n",
       " 8: 0,\n",
       " 9: 0,\n",
       " 10: 10,\n",
       " 11: 10,\n",
       " 12: 10,\n",
       " 13: 10,\n",
       " 14: 10,\n",
       " 15: 10}"
      ]
     },
     "execution_count": 56,
     "metadata": {},
     "output_type": "execute_result"
    }
   ],
   "source": [
    "nx.triangles(Gbarbell)"
   ]
  },
  {
   "cell_type": "markdown",
   "metadata": {},
   "source": [
    "nx.triangles() counts every node that the triangle is involved in. "
   ]
  },
  {
   "cell_type": "code",
   "execution_count": 57,
   "metadata": {},
   "outputs": [
    {
     "data": {
      "text/plain": [
       "10"
      ]
     },
     "execution_count": 57,
     "metadata": {},
     "output_type": "execute_result"
    }
   ],
   "source": [
    "nx.triangles(Gbarbell)[0]"
   ]
  },
  {
   "cell_type": "code",
   "execution_count": 72,
   "metadata": {
    "collapsed": true
   },
   "outputs": [],
   "source": [
    "G2 = nx.erdos_renyi_graph(n=100, p=0.03)"
   ]
  },
  {
   "cell_type": "code",
   "execution_count": 73,
   "metadata": {},
   "outputs": [
    {
     "data": {
      "text/plain": [
       "<generator object connected_component_subgraphs at 0x7f621ba8df00>"
      ]
     },
     "execution_count": 73,
     "metadata": {},
     "output_type": "execute_result"
    }
   ],
   "source": [
    "nx.connected_component_subgraphs(G)"
   ]
  },
  {
   "cell_type": "code",
   "execution_count": 74,
   "metadata": {},
   "outputs": [
    {
     "data": {
      "image/png": "[encoded data removed]",
      "text/plain": [
       "<matplotlib.figure.Figure at 0x7f621babf0d0>"
      ]
     },
     "metadata": {},
     "output_type": "display_data"
    }
   ],
   "source": [
    "nx.draw(G2)"
   ]
  },
  {
   "cell_type": "code",
   "execution_count": 75,
   "metadata": {},
   "outputs": [
    {
     "data": {
      "text/plain": [
       "[<networkx.classes.graph.Graph at 0x7f621a0f0f50>,\n",
       " <networkx.classes.graph.Graph at 0x7f621a0f0f90>,\n",
       " <networkx.classes.graph.Graph at 0x7f621a0f0ad0>,\n",
       " <networkx.classes.graph.Graph at 0x7f621a0f0b50>,\n",
       " <networkx.classes.graph.Graph at 0x7f621a0f0b90>,\n",
       " <networkx.classes.graph.Graph at 0x7f621a0f09d0>,\n",
       " <networkx.classes.graph.Graph at 0x7f621a0f0a50>]"
      ]
     },
     "execution_count": 75,
     "metadata": {},
     "output_type": "execute_result"
    }
   ],
   "source": [
    "list(nx.connected_component_subgraphs(G2))"
   ]
  },
  {
   "cell_type": "code",
   "execution_count": 76,
   "metadata": {},
   "outputs": [
    {
     "name": "stdout",
     "output_type": "stream",
     "text": [
      "94\n",
      "1\n",
      "1\n",
      "1\n",
      "1\n",
      "1\n",
      "1\n"
     ]
    }
   ],
   "source": [
    "for g in list(nx.connected_component_subgraphs(G2)):\n",
    "    print len(g.nodes())"
   ]
  },
  {
   "cell_type": "markdown",
   "metadata": {},
   "source": [
    "The six isolated nodes can't be accessed from any other nodes in the graph, because no edge exists between the isolated nodes and the other nodes. "
   ]
  },
  {
   "cell_type": "code",
   "execution_count": 77,
   "metadata": {
    "collapsed": true
   },
   "outputs": [],
   "source": [
    "aset = set([1, 2, 2, 3])"
   ]
  },
  {
   "cell_type": "code",
   "execution_count": 78,
   "metadata": {
    "collapsed": true
   },
   "outputs": [],
   "source": [
    "bset = set([3, 4, 5])"
   ]
  },
  {
   "cell_type": "code",
   "execution_count": 79,
   "metadata": {},
   "outputs": [
    {
     "data": {
      "text/plain": [
       "{1, 2, 3}"
      ]
     },
     "execution_count": 79,
     "metadata": {},
     "output_type": "execute_result"
    }
   ],
   "source": [
    "aset"
   ]
  },
  {
   "cell_type": "code",
   "execution_count": 80,
   "metadata": {},
   "outputs": [
    {
     "data": {
      "text/plain": [
       "{3, 4, 5}"
      ]
     },
     "execution_count": 80,
     "metadata": {},
     "output_type": "execute_result"
    }
   ],
   "source": [
    "bset"
   ]
  },
  {
   "cell_type": "code",
   "execution_count": 81,
   "metadata": {},
   "outputs": [
    {
     "data": {
      "text/plain": [
       "{1, 2, 3, 4, 5}"
      ]
     },
     "execution_count": 81,
     "metadata": {},
     "output_type": "execute_result"
    }
   ],
   "source": [
    "aset.union(bset)"
   ]
  },
  {
   "cell_type": "code",
   "execution_count": 82,
   "metadata": {},
   "outputs": [
    {
     "data": {
      "text/plain": [
       "{3}"
      ]
     },
     "execution_count": 82,
     "metadata": {},
     "output_type": "execute_result"
    }
   ],
   "source": [
    "aset.intersection(bset)"
   ]
  },
  {
   "cell_type": "code",
   "execution_count": 83,
   "metadata": {},
   "outputs": [
    {
     "data": {
      "text/plain": [
       "[(0, 1),\n",
       " (0, 2),\n",
       " (0, 3),\n",
       " (0, 4),\n",
       " (0, 5),\n",
       " (1, 2),\n",
       " (1, 3),\n",
       " (1, 4),\n",
       " (1, 5),\n",
       " (2, 3),\n",
       " (2, 4),\n",
       " (2, 5),\n",
       " (3, 4),\n",
       " (3, 5),\n",
       " (4, 5),\n",
       " (5, 6),\n",
       " (6, 7),\n",
       " (7, 8),\n",
       " (8, 9),\n",
       " (9, 10),\n",
       " (10, 11),\n",
       " (10, 12),\n",
       " (10, 13),\n",
       " (10, 14),\n",
       " (10, 15),\n",
       " (11, 12),\n",
       " (11, 13),\n",
       " (11, 14),\n",
       " (11, 15),\n",
       " (12, 13),\n",
       " (12, 14),\n",
       " (12, 15),\n",
       " (13, 14),\n",
       " (13, 15),\n",
       " (14, 15)]"
      ]
     },
     "execution_count": 83,
     "metadata": {},
     "output_type": "execute_result"
    }
   ],
   "source": [
    "Gbarbell.edges()"
   ]
  },
  {
   "cell_type": "code",
   "execution_count": 5,
   "metadata": {},
   "outputs": [
    {
     "data": {
      "text/plain": [
       "list"
      ]
     },
     "execution_count": 5,
     "metadata": {},
     "output_type": "execute_result"
    }
   ],
   "source": [
    "type(Gbarbell.edges())"
   ]
  },
  {
   "cell_type": "markdown",
   "metadata": {},
   "source": [
    "G.edges() gives a list of tuples."
   ]
  }
 ],
 "metadata": {
  "kernelspec": {
   "display_name": "Python 2",
   "language": "python",
   "name": "python2"
  },
  "language_info": {
   "codemirror_mode": {
    "name": "ipython",
    "version": 2
   },
   "file_extension": ".py",
   "mimetype": "text/x-python",
   "name": "python",
   "nbconvert_exporter": "python",
   "pygments_lexer": "ipython2",
   "version": "2.7.13"
  }
 },
 "nbformat": 4,
 "nbformat_minor": 2
}
